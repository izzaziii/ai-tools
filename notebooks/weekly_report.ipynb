{
 "cells": [
  {
   "cell_type": "markdown",
   "id": "1d7684fa",
   "metadata": {},
   "source": [
    "# Title of the Notebook\n",
    "- Date: \n",
    "- Purpose:\n",
    "\n",
    "## Notebook Setup\n",
    "- Business question: \n",
    "- Expected outcomes:\n",
    "- Assumptions or constraints: "
   ]
  },
  {
   "cell_type": "markdown",
   "id": "d5cc33b2",
   "metadata": {},
   "source": [
    "## Notebook environment setup"
   ]
  },
  {
   "cell_type": "code",
   "execution_count": 1,
   "id": "e968d93c",
   "metadata": {},
   "outputs": [],
   "source": [
    "import os\n",
    "import sys\n",
    "from datetime import datetime\n",
    "\n",
    "def set_working_directory(path: str) -> None:\n",
    "    \"\"\"\n",
    "    Set the working directory and add it to sys.path for module imports.\n",
    "\n",
    "    Args:\n",
    "        path (str): The path to set as the working directory.\n",
    "\n",
    "    Raises:\n",
    "        FileNotFoundError: If the specified path does not exist.\n",
    "    \"\"\"\n",
    "    if not os.path.isdir(path):\n",
    "        raise FileNotFoundError(f\"Directory '{path}' does not exist.\")\n",
    "    os.chdir(path)\n",
    "    if path not in sys.path:\n",
    "        sys.path.insert(0, path)\n",
    "\n",
    "# Example usage:\n",
    "set_working_directory(\"C:\\\\Users\\\\izzaz\\\\Documents\\\\2 Areas\\\\GitHub\\\\ai-tools\")\n",
    "\n",
    "src_path = os.path.join(os.getcwd(), \"src\")\n",
    "if src_path not in sys.path:\n",
    "    sys.path.insert(0, src_path)"
   ]
  },
  {
   "cell_type": "markdown",
   "id": "98699c88",
   "metadata": {},
   "source": [
    "### Visualization params and styling"
   ]
  },
  {
   "cell_type": "code",
   "execution_count": null,
   "id": "afe60021",
   "metadata": {},
   "outputs": [],
   "source": [
    "import matplotlib.pyplot as plt\n",
    "plt.style.use(['seaborn-v0_8-notebook', 'seaborn-v0_8-white'])"
   ]
  },
  {
   "cell_type": "markdown",
   "id": "0af59159",
   "metadata": {},
   "source": [
    "## OLS Data\n",
    "### Get Data (if needed)"
   ]
  },
  {
   "cell_type": "code",
   "execution_count": null,
   "id": "f3f789f2",
   "metadata": {},
   "outputs": [],
   "source": [
    "from src.core.ga4 import OLS\n",
    "ols = OLS()\n",
    "df = ols.get_ols_dataframe(\"2024-01-01\", \"yesterday\")\n",
    "try:\n",
    "    df.to_csv(\"data/raw/ols.csv\", index=True)\n",
    "except Exception as e:\n",
    "    print(f\"Error saving CSV: {e}\")\n"
   ]
  },
  {
   "cell_type": "markdown",
   "id": "efad0f78",
   "metadata": {},
   "source": [
    "### Load Data"
   ]
  },
  {
   "cell_type": "code",
   "execution_count": 2,
   "id": "2d460217",
   "metadata": {},
   "outputs": [],
   "source": [
    "import pandas as pd\n",
    "# If re-accessing this notebook, read from CSV instead of reprocessing\n",
    "df = pd.read_csv(\"data/raw/ols.csv\", index_col=0, parse_dates=True)"
   ]
  },
  {
   "cell_type": "markdown",
   "id": "8fa595b1",
   "metadata": {},
   "source": [
    "### Reshape data to weekly"
   ]
  },
  {
   "cell_type": "code",
   "execution_count": 3,
   "id": "b0b43e43",
   "metadata": {},
   "outputs": [
    {
     "data": {
      "text/html": [
       "<div>\n",
       "<style scoped>\n",
       "    .dataframe tbody tr th:only-of-type {\n",
       "        vertical-align: middle;\n",
       "    }\n",
       "\n",
       "    .dataframe tbody tr th {\n",
       "        vertical-align: top;\n",
       "    }\n",
       "\n",
       "    .dataframe thead th {\n",
       "        text-align: right;\n",
       "    }\n",
       "</style>\n",
       "<table border=\"1\" class=\"dataframe\">\n",
       "  <thead>\n",
       "    <tr style=\"text-align: right;\">\n",
       "      <th></th>\n",
       "      <th>traffic</th>\n",
       "      <th>view_item</th>\n",
       "      <th>type_addr</th>\n",
       "      <th>add_contact</th>\n",
       "      <th>add_addr</th>\n",
       "      <th>add_date</th>\n",
       "      <th>checkout</th>\n",
       "      <th>purchase</th>\n",
       "      <th>week</th>\n",
       "      <th>year</th>\n",
       "    </tr>\n",
       "    <tr>\n",
       "      <th>date</th>\n",
       "      <th></th>\n",
       "      <th></th>\n",
       "      <th></th>\n",
       "      <th></th>\n",
       "      <th></th>\n",
       "      <th></th>\n",
       "      <th></th>\n",
       "      <th></th>\n",
       "      <th></th>\n",
       "      <th></th>\n",
       "    </tr>\n",
       "  </thead>\n",
       "  <tbody>\n",
       "    <tr>\n",
       "      <th>2025-02-23</th>\n",
       "      <td>118140</td>\n",
       "      <td>4923</td>\n",
       "      <td>1528</td>\n",
       "      <td>836</td>\n",
       "      <td>930</td>\n",
       "      <td>517</td>\n",
       "      <td>466</td>\n",
       "      <td>351</td>\n",
       "      <td>8</td>\n",
       "      <td>2025</td>\n",
       "    </tr>\n",
       "    <tr>\n",
       "      <th>2025-03-02</th>\n",
       "      <td>158300</td>\n",
       "      <td>6323</td>\n",
       "      <td>1876</td>\n",
       "      <td>1210</td>\n",
       "      <td>1328</td>\n",
       "      <td>844</td>\n",
       "      <td>493</td>\n",
       "      <td>361</td>\n",
       "      <td>9</td>\n",
       "      <td>2025</td>\n",
       "    </tr>\n",
       "    <tr>\n",
       "      <th>2025-03-09</th>\n",
       "      <td>140929</td>\n",
       "      <td>6260</td>\n",
       "      <td>1816</td>\n",
       "      <td>600</td>\n",
       "      <td>1174</td>\n",
       "      <td>641</td>\n",
       "      <td>507</td>\n",
       "      <td>385</td>\n",
       "      <td>10</td>\n",
       "      <td>2025</td>\n",
       "    </tr>\n",
       "    <tr>\n",
       "      <th>2025-03-16</th>\n",
       "      <td>131538</td>\n",
       "      <td>5560</td>\n",
       "      <td>1555</td>\n",
       "      <td>240</td>\n",
       "      <td>957</td>\n",
       "      <td>531</td>\n",
       "      <td>501</td>\n",
       "      <td>366</td>\n",
       "      <td>11</td>\n",
       "      <td>2025</td>\n",
       "    </tr>\n",
       "    <tr>\n",
       "      <th>2025-03-23</th>\n",
       "      <td>106207</td>\n",
       "      <td>5252</td>\n",
       "      <td>1337</td>\n",
       "      <td>602</td>\n",
       "      <td>783</td>\n",
       "      <td>463</td>\n",
       "      <td>419</td>\n",
       "      <td>319</td>\n",
       "      <td>12</td>\n",
       "      <td>2025</td>\n",
       "    </tr>\n",
       "    <tr>\n",
       "      <th>2025-03-30</th>\n",
       "      <td>133238</td>\n",
       "      <td>5131</td>\n",
       "      <td>1332</td>\n",
       "      <td>909</td>\n",
       "      <td>764</td>\n",
       "      <td>480</td>\n",
       "      <td>506</td>\n",
       "      <td>350</td>\n",
       "      <td>13</td>\n",
       "      <td>2025</td>\n",
       "    </tr>\n",
       "    <tr>\n",
       "      <th>2025-04-06</th>\n",
       "      <td>176808</td>\n",
       "      <td>6573</td>\n",
       "      <td>1515</td>\n",
       "      <td>884</td>\n",
       "      <td>736</td>\n",
       "      <td>469</td>\n",
       "      <td>394</td>\n",
       "      <td>300</td>\n",
       "      <td>14</td>\n",
       "      <td>2025</td>\n",
       "    </tr>\n",
       "    <tr>\n",
       "      <th>2025-04-13</th>\n",
       "      <td>213996</td>\n",
       "      <td>6035</td>\n",
       "      <td>1456</td>\n",
       "      <td>989</td>\n",
       "      <td>817</td>\n",
       "      <td>471</td>\n",
       "      <td>483</td>\n",
       "      <td>355</td>\n",
       "      <td>15</td>\n",
       "      <td>2025</td>\n",
       "    </tr>\n",
       "    <tr>\n",
       "      <th>2025-04-20</th>\n",
       "      <td>151879</td>\n",
       "      <td>5269</td>\n",
       "      <td>1388</td>\n",
       "      <td>1015</td>\n",
       "      <td>856</td>\n",
       "      <td>546</td>\n",
       "      <td>507</td>\n",
       "      <td>340</td>\n",
       "      <td>16</td>\n",
       "      <td>2025</td>\n",
       "    </tr>\n",
       "    <tr>\n",
       "      <th>2025-04-27</th>\n",
       "      <td>191941</td>\n",
       "      <td>6592</td>\n",
       "      <td>1668</td>\n",
       "      <td>1074</td>\n",
       "      <td>910</td>\n",
       "      <td>579</td>\n",
       "      <td>537</td>\n",
       "      <td>409</td>\n",
       "      <td>17</td>\n",
       "      <td>2025</td>\n",
       "    </tr>\n",
       "  </tbody>\n",
       "</table>\n",
       "</div>"
      ],
      "text/plain": [
       "            traffic  view_item  type_addr  add_contact  add_addr  add_date  \\\n",
       "date                                                                         \n",
       "2025-02-23   118140       4923       1528          836       930       517   \n",
       "2025-03-02   158300       6323       1876         1210      1328       844   \n",
       "2025-03-09   140929       6260       1816          600      1174       641   \n",
       "2025-03-16   131538       5560       1555          240       957       531   \n",
       "2025-03-23   106207       5252       1337          602       783       463   \n",
       "2025-03-30   133238       5131       1332          909       764       480   \n",
       "2025-04-06   176808       6573       1515          884       736       469   \n",
       "2025-04-13   213996       6035       1456          989       817       471   \n",
       "2025-04-20   151879       5269       1388         1015       856       546   \n",
       "2025-04-27   191941       6592       1668         1074       910       579   \n",
       "\n",
       "            checkout  purchase  week  year  \n",
       "date                                        \n",
       "2025-02-23       466       351     8  2025  \n",
       "2025-03-02       493       361     9  2025  \n",
       "2025-03-09       507       385    10  2025  \n",
       "2025-03-16       501       366    11  2025  \n",
       "2025-03-23       419       319    12  2025  \n",
       "2025-03-30       506       350    13  2025  \n",
       "2025-04-06       394       300    14  2025  \n",
       "2025-04-13       483       355    15  2025  \n",
       "2025-04-20       507       340    16  2025  \n",
       "2025-04-27       537       409    17  2025  "
      ]
     },
     "execution_count": 3,
     "metadata": {},
     "output_type": "execute_result"
    }
   ],
   "source": [
    "def process_ols_data(df: pd.DataFrame) -> pd.DataFrame:\n",
    "    \"\"\"\n",
    "    Process the OLS data for weekly aggregation.\n",
    "    \"\"\"\n",
    "    return (df\n",
    "    .reset_index()\n",
    "    .assign(date=pd.to_datetime(df.index, format=\"%Y%m%d\"))\n",
    "    .set_index(\"date\")\n",
    "    .resample(\"W-SUN\")\n",
    "    .sum()\n",
    "    .assign(week=lambda x: x.index.isocalendar().week,\n",
    "            year=lambda x: x.index.isocalendar().year)\n",
    " )\n",
    "\n",
    "processed_df = process_ols_data(df)\n",
    "processed_df.tail(10)"
   ]
  },
  {
   "cell_type": "markdown",
   "id": "a5b66419",
   "metadata": {},
   "source": [
    "### Data Exploration"
   ]
  },
  {
   "cell_type": "markdown",
   "id": "cba87475",
   "metadata": {},
   "source": [
    "Reshape data to json"
   ]
  },
  {
   "cell_type": "code",
   "execution_count": 4,
   "id": "73aeff40",
   "metadata": {},
   "outputs": [],
   "source": [
    "json_data = processed_df.reset_index().to_dict(orient=\"records\")"
   ]
  },
  {
   "cell_type": "markdown",
   "id": "195b0f27",
   "metadata": {},
   "source": [
    "Initial EDA"
   ]
  },
  {
   "cell_type": "code",
   "execution_count": 5,
   "id": "845daef7",
   "metadata": {},
   "outputs": [
    {
     "name": "stdout",
     "output_type": "stream",
     "text": [
      "{'input': 6387, 'output': 1585, 'total': 7972}\n",
      "{'cost in USD ($)': 0.005091}\n"
     ]
    }
   ],
   "source": [
    "from src.core.openai_client import OpenAIClient\n",
    "\n",
    "client = OpenAIClient()\n",
    "prompt = f\"\"\"\n",
    "        You are a data analyst. I will provide you with a JSON object containing weekly data.\n",
    "        Your task is to analyze the data and provide insights, focusing on the last week in the dataset.\n",
    "\n",
    "        Analysis steps:\n",
    "        - Provide comparisons with previous weeks.\n",
    "        - Provide comparisons with previous year.\n",
    "        - Highlight key trends, ascending or descending.\n",
    "        - Perform funnel and conversion rate analysis.\n",
    "\n",
    "\n",
    "        The dataset contains the following fields:\n",
    "        - date: The date of the week (YYYY-MM-DD format)\n",
    "        - week: The week number of the year\n",
    "        - year: The year of the week\n",
    "        - traffic: Total traffic in users for the week\n",
    "        - view_item: Total users who started the conversion funnel process\n",
    "        - type_addr: Total users who typed into the address bar\n",
    "        - add_contact: Total users who added their contact, also known as \"leads drop\"\n",
    "        - add_addr: Total users who are within our service coverage area and able to add their address\n",
    "        - add_date: Total users who added their preferred service installation date\n",
    "        - checkout: Total users who began the checkout process\n",
    "        - purchase: Total users who completed the sign up process\n",
    "\n",
    "        Context: we are a telecommunications company that provides home fibre internet service. We do not have service in all areas, so we have a service coverage area. The website is a key channel for acquiring new customers.\n",
    "\n",
    "        Dataset: {json_data}\n",
    "\"\"\"\n",
    "try:\n",
    "    response = client.get_completion(prompt)\n",
    "    print(response[\"tokens\"])\n",
    "    print(response[\"cost\"])\n",
    "except Exception as e:\n",
    "    print(f\"Error getting response: {e}\")"
   ]
  },
  {
   "cell_type": "code",
   "execution_count": 6,
   "id": "84730d8a",
   "metadata": {},
   "outputs": [
    {
     "name": "stdout",
     "output_type": "stream",
     "text": [
      "Analysis saved to reports folder.\n"
     ]
    }
   ],
   "source": [
    "# Output the response to a markdown file\n",
    "if response:\n",
    "    try:\n",
    "        with open(f\"reports/{datetime.now().strftime(\"%Y%m%d\")}_ols_analysis.md\", \"w\") as f:\n",
    "            f.write(response[\"text\"])\n",
    "        print(\"Analysis saved to reports folder.\")\n",
    "    except Exception as e:\n",
    "        print(f\"Error writing to file: {e}\")"
   ]
  },
  {
   "cell_type": "markdown",
   "id": "a976fd96",
   "metadata": {},
   "source": [
    "### Conversion Rate Analysis"
   ]
  },
  {
   "cell_type": "code",
   "execution_count": 7,
   "id": "9051d51c",
   "metadata": {},
   "outputs": [
    {
     "name": "stdout",
     "output_type": "stream",
     "text": [
      "{'input': 525, 'output': 491, 'total': 1016}\n",
      "{'cost in USD ($)': 0.000996}\n"
     ]
    }
   ],
   "source": [
    "prompt = \"\"\"\n",
    "    Perform conversion rate analysis on the website data.\n",
    "\n",
    "    Calculate the conversion rates for the past week and compare it to previous weeks' distributions. Include what percentile of value past week falls into. Flag all conversion rates that are below the 25th percentile, and highlight any significant changes in conversion rates.\n",
    "\n",
    "    Only output the results and insights, nothing else.\n",
    "\n",
    "    Example:\n",
    "\n",
    "    {\n",
    "        \"week\": 17,\n",
    "        \"year\": 2025,\n",
    "        \"conversion_rates\": {\n",
    "        \"traffic_to_view_item\": 0.0344,\n",
    "        \"view_item_to_type_addr\": 0.253,\n",
    "        \"type_addr_to_add_contact\": 0.644,\n",
    "        \"add_contact_to_add_addr\": 0.847,\n",
    "        \"add_addr_to_add_date\": 0.637,\n",
    "        \"add_date_to_checkout\": 0.927,\n",
    "        \"checkout_to_purchase\": 0.761,\n",
    "        \"traffic_to_purchase\": 0.00214\n",
    "    },\n",
    "        \"percentiles_vs_previous_weeks\": {\n",
    "        \"traffic_to_view_item\": 30,\n",
    "        \"view_item_to_type_addr\": 10,\n",
    "        \"type_addr_to_add_contact\": 60,\n",
    "        \"add_contact_to_add_addr\": 50,\n",
    "        \"add_addr_to_add_date\": 45,\n",
    "        \"add_date_to_checkout\": 70,\n",
    "        \"checkout_to_purchase\": 50,\n",
    "        \"traffic_to_purchase\": 35\n",
    "    },\n",
    "    \"flags\": {\n",
    "    \"below_25th_percentile\": [\n",
    "        \"view_item_to_type_addr\"\n",
    "        ]\n",
    "    },\n",
    "        \"significant_changes\": [\n",
    "        \"View_item to type_addr conversion rate is significantly lower than typical weeks and is flagged below the 25th percentile at 10th percentile.\",\n",
    "        \"Traffic to view_item rate is slightly below median but above 25th percentile, no flag.\",\n",
    "        \"All other conversion rates fall within normal or better-than-normal ranges.\"\n",
    "    ],\n",
    "    \"insights\": [\n",
    "        \"The largest area of concern is the low conversion rate from view_item to type_addr, highlighting a critical funnel bottleneck likely affecting overall lead generation.\",\n",
    "        \"Despite strong traffic, fewer users proceed to type their address than in most previous weeks, which may be due to UX issues or service availability perceptions.\",\n",
    "        \"Maintaining or improving conversion rates at downstream steps is positive but cannot compensate for the significant drop-off earlier in the funnel.\",\n",
    "        \"Focus efforts on optimizing the user experience and clarity at the address input stage to improve funnel throughput and overall conversions.\"\n",
    "    ]\n",
    "    }\n",
    "\"\"\"\n",
    "followup_response = client.get_completion(prompt, keep_history=True)\n",
    "print(followup_response[\"tokens\"])\n",
    "print(followup_response[\"cost\"])"
   ]
  },
  {
   "cell_type": "code",
   "execution_count": 8,
   "id": "6c4e6cc0",
   "metadata": {},
   "outputs": [
    {
     "name": "stdout",
     "output_type": "stream",
     "text": [
      "Analysis saved to reports folder.\n"
     ]
    }
   ],
   "source": [
    "# Output the response to a markdown file\n",
    "if response:\n",
    "    try:\n",
    "        with open(f\"reports/{datetime.now().strftime(\"%Y%m%d\")}_funnel_analysis.md\", \"w\") as f:\n",
    "            f.write(response[\"text\"])\n",
    "        print(\"Analysis saved to reports folder.\")\n",
    "    except Exception as e:\n",
    "        print(f\"Error writing to file: {e}\")"
   ]
  },
  {
   "cell_type": "markdown",
   "id": "77807ae5",
   "metadata": {},
   "source": [
    "## Sales"
   ]
  },
  {
   "cell_type": "code",
   "execution_count": null,
   "id": "d4c830a8",
   "metadata": {},
   "outputs": [],
   "source": [
    "from src.core.mongodb import Mongo\n",
    "\n",
    "client = Mongo(\"deep-diver-v2\", \"boreport\")\n",
    "sales_df = client.get_data()\n",
    "sales_df.head(5)"
   ]
  },
  {
   "cell_type": "code",
   "execution_count": null,
   "id": "2215a40e",
   "metadata": {},
   "outputs": [],
   "source": [
    "online = (sales_df\n",
    " .loc[sales_df[\" Channel\"].isin([\"ONLINE\"])]\n",
    " .dropna(subset=[\"Probability 90% Date\"])\n",
    " .assign(date=pd.to_datetime(sales_df[\"Probability 90% Date\"], format=\"%Y-%m-%d %H:%M:%S\"))\n",
    " .set_index(\"date\")\n",
    " .resample(\"W-SUN\")\n",
    " [\"Funnel SO No\"]\n",
    " .count()\n",
    " )\n",
    "\n",
    "online.tail(20)"
   ]
  }
 ],
 "metadata": {
  "kernelspec": {
   "display_name": ".venv",
   "language": "python",
   "name": "python3"
  },
  "language_info": {
   "codemirror_mode": {
    "name": "ipython",
    "version": 3
   },
   "file_extension": ".py",
   "mimetype": "text/x-python",
   "name": "python",
   "nbconvert_exporter": "python",
   "pygments_lexer": "ipython3",
   "version": "3.13.2"
  }
 },
 "nbformat": 4,
 "nbformat_minor": 5
}
